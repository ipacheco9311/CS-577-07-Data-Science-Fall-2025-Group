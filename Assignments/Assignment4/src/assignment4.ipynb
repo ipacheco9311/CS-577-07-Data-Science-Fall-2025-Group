{
 "cells": [
  {
   "metadata": {},
   "cell_type": "markdown",
   "source": [
    "# Assignment #4\n",
    "\n",
    "READ ALL INSTRUCTIONS CAREFULLY\n",
    "\n",
    "This assignment is a puzzle. You have been given a data set with some semi-informative column headers but no additional information about it. Your goal is to investigate the data, understand as much about it as you can, and report back what you find.\n",
    "\n",
    "You are free to use any and all of the techniques we have covered this semester: EDA, data wrangling, visualization (scatter plots, line plots, histograms, jointplots, etc.), descriptive statistics (mean, median, variance, covariance, etc.), regression / model fitting, loss functions (MSE, MAE), R^2, cross-validation, bootstrapping, gradient descent, etc... \n",
    "\n",
    "There are many different ways to approach this assignment and be successful. I recommend starting simple and getting slowly more sophisticated as needed."
   ],
   "id": "5626250cc7f19eca"
  },
  {
   "metadata": {},
   "cell_type": "markdown",
   "source": [
    "## Collaborators\n",
    "\n",
    "You must work in groups of 2-3. You cannot work on this assignment alone. Your partners cannot be anyone you have partnered with previously on an assignment and they cannot be in your group for the semester project.\n",
    "\n",
    "**Names of all collaborators go here** (including yourself):\n",
    "- Isaia Pacheco\n",
    "- Alex Garrigan-Timm\n",
    "- Noam Joseph"
   ],
   "id": "dedb4c2d9f4a865c"
  },
  {
   "metadata": {},
   "cell_type": "markdown",
   "source": [
    "## Tools\n",
    "\n",
    "You are not allowed to use LLMs (including the LLM results that pop up in Google search). You may use search online for ideas, use StackExchange, and I highly encourage using Python library documentation.\n",
    "\n",
    "Hint: It may be useful to use the sklearn library for model fitting (and not to implement model fitting or optimization by hand)."
   ],
   "id": "b3b26649828fe0a0"
  },
  {
   "metadata": {},
   "cell_type": "markdown",
   "source": "## Submission Instructions",
   "id": "e65ded6745244160"
  },
  {
   "metadata": {},
   "cell_type": "markdown",
   "source": [
    "You must submit two files. One is your **Jupyter notebook** that you use to explore and analyze the data. The second file is a separate **PDF** reporting, presenting, and explaining your results with no code in it.\n",
    "\n",
    "**Only one person** in your group should submit the assignment files on Canvas. Be sure everyone's names are listed under collaborators in both the notebook and the PDF so everyone gets credit!"
   ],
   "id": "2ecc74668fd148e0"
  },
  {
   "metadata": {},
   "cell_type": "markdown",
   "source": "## Potentially Helpful Documentation\n",
   "id": "d073ff4b6ef0f11c"
  },
  {
   "metadata": {},
   "cell_type": "markdown",
   "source": [
    "https://scikit-learn.org/stable/api/sklearn.model_selection.html\n",
    "\n",
    "https://scikit-learn.org/stable/modules/linear_model.html\n",
    "\n",
    "https://scikit-learn.org/stable/api/sklearn.metrics.html\n",
    "\n",
    "https://scikit-learn.org/stable/modules/generated/sklearn.preprocessing.PolynomialFeatures.html"
   ],
   "id": "6217c76a1dde2cd1"
  },
  {
   "metadata": {},
   "cell_type": "markdown",
   "source": "# Your Code Below",
   "id": "2da650f8750517da"
  },
  {
   "metadata": {},
   "cell_type": "markdown",
   "source": "## Imports and CoW",
   "id": "74b5dadd5c4f9738"
  },
  {
   "metadata": {},
   "cell_type": "markdown",
   "source": "",
   "id": "3316507be843d45"
  },
  {
   "metadata": {
    "ExecuteTime": {
     "end_time": "2025-10-31T01:25:36.718507Z",
     "start_time": "2025-10-31T01:25:35.954302Z"
    }
   },
   "cell_type": "code",
   "source": [
    "# Add all of your import statements here. ONLY include the imports you actually use. There are useful tools in the scikit-learn library for regression and model fitting, but you are not required to use it. If you use it, you will need to install it into your virtual environment.\n",
    "from pathlib import Path\n",
    "import pandas as pd\n",
    "import numpy as np\n",
    "import matplotlib.pyplot as plt\n",
    "import seaborn as sns\n",
    "from pathlib import Path\n",
    "import sklearn as sk\n",
    "# from sklearn.<something> import <something>\n",
    "from sklearn.model_selection import train_test_split"
   ],
   "id": "b160043e7028c99",
   "outputs": [],
   "execution_count": 2
  },
  {
   "metadata": {
    "ExecuteTime": {
     "end_time": "2025-10-31T01:25:39.892933Z",
     "start_time": "2025-10-31T01:25:39.871142Z"
    }
   },
   "cell_type": "code",
   "source": [
    "# Enforce Copy-on-Write (CoW) semantics here\n",
    "pd.options.mode.copy_on_write = True\n",
    "pd.set_option('display.max_rows', 100)"
   ],
   "id": "e7417f749eac09ef",
   "outputs": [],
   "execution_count": 3
  },
  {
   "metadata": {},
   "cell_type": "markdown",
   "source": [
    "## Project Folder Organization and File Reading\n",
    "\n",
    "You must read in the given data file using relative paths, as shown in previous assignments. Organize your work to be in a project folder, with src and data subfolders. Place your solution notebook in the src folder, and the given data file in the data folder."
   ],
   "id": "831494a5d78d935a"
  },
  {
   "metadata": {},
   "cell_type": "code",
   "outputs": [],
   "execution_count": null,
   "source": [
    "# Read in the data file (using relative paths for reproducibility). It should be able to download your notebook, put it in the src folder of my project folder, and run it without changing anything.\n",
    "def read_csv(file, **kwargs):\n",
    "    cwd = Path.cwd()\n",
    "    assignment2 = cwd.parent\n",
    "    data = assignment2.joinpath('data')\n",
    "    path = data.joinpath(file)\n",
    "    if path.exists():\n",
    "        print(f'Found the data file {path}')\n",
    "    else:\n",
    "        raise Exception('Could not find that file', path)\n",
    "    return pd.read_csv(path, **kwargs)"
   ],
   "id": "330da2ab33243ae"
  },
  {
   "metadata": {},
   "cell_type": "markdown",
   "source": "#### mystery.csv appears to separate the columns with a pipe or \"|\"",
   "id": "3286c92be616c50c"
  },
  {
   "metadata": {},
   "cell_type": "code",
   "outputs": [],
   "execution_count": null,
   "source": "mystery_df = read_csv('mystery.csv', delimiter='|', float_precision='round_trip')",
   "id": "3f3dbd7dd063022e"
  },
  {
   "metadata": {},
   "cell_type": "code",
   "outputs": [],
   "execution_count": null,
   "source": [
    "seed = 4\n",
    "mystery_df_train, mystery_df_test = train_test_split(mystery_df[:], train_size=0.79, random_state=seed)\n",
    "mystery_df_eval, mystery_df_test = train_test_split(mystery_df_test, test_size=0.5, random_state=seed)\n",
    "print(f'train: {mystery_df_train.shape}, test:{mystery_df_test.shape}, eval:{mystery_df_eval.shape}')"
   ],
   "id": "da14ad876bef9203"
  },
  {
   "metadata": {},
   "cell_type": "code",
   "outputs": [],
   "execution_count": null,
   "source": "mystery_df_train.value_counts().reset_index()",
   "id": "7bcb69f13d841dbc"
  },
  {
   "metadata": {},
   "cell_type": "code",
   "outputs": [],
   "execution_count": null,
   "source": "before_describe = mystery_df_train.describe()",
   "id": "24db465a69c8d7eb"
  },
  {
   "metadata": {},
   "cell_type": "markdown",
   "source": "What does -999.0 mean? missing at random since all columns have -999?",
   "id": "bd01ef63d1410f0f"
  },
  {
   "metadata": {},
   "cell_type": "code",
   "outputs": [],
   "execution_count": null,
   "source": [
    "df = mystery_df_train[\n",
    "        (mystery_df_train['x'] > -999.0) |\n",
    "        (mystery_df_train['y'] > -999.0) |\n",
    "        (mystery_df_train['z'] > -999.0) |\n",
    "        (mystery_df_train['d1'] > -999.0) |\n",
    "        (mystery_df_train['d2'] > -999.0) |\n",
    "        (mystery_df_train['d3'] > -999.0) |\n",
    "        (mystery_df_train['d4'] > -999.0)\n",
    "]"
   ],
   "id": "faf62fcfc1e102d7"
  },
  {
   "metadata": {},
   "cell_type": "code",
   "outputs": [],
   "execution_count": null,
   "source": "df.shape",
   "id": "e2c51709c766d329"
  },
  {
   "metadata": {},
   "cell_type": "code",
   "outputs": [],
   "execution_count": null,
   "source": "after_describe = df.describe()",
   "id": "46fd3929e5eed065"
  },
  {
   "metadata": {},
   "cell_type": "code",
   "outputs": [],
   "execution_count": null,
   "source": [
    "before_melted = before_describe.melt(ignore_index=False, var_name='Variable', value_name='df1_Value').reset_index().rename(columns={'index': 'Statistic'})\n",
    "after_melted = after_describe.melt(ignore_index=False, var_name='Variable', value_name='df2_Value').reset_index().rename(columns={'index': 'Statistic'})\n",
    "comparison_df = pd.merge(before_melted, after_melted, on=['Statistic', 'Variable'], how='outer')"
   ],
   "id": "ca89e1a6d22481b"
  },
  {
   "metadata": {},
   "cell_type": "code",
   "outputs": [],
   "execution_count": null,
   "source": "comparison_df",
   "id": "6f4edd9f7920222c"
  },
  {
   "metadata": {},
   "cell_type": "markdown",
   "source": "statistic relative the same, so treat as nan?",
   "id": "3b2971b5b6ac5ebd"
  },
  {
   "metadata": {},
   "cell_type": "code",
   "outputs": [],
   "execution_count": null,
   "source": [
    "mystery_df = read_csv('mystery.csv', delimiter='|', float_precision='round_trip', na_values=[-999.0])\n",
    "mystery_df_train, mystery_df_test = train_test_split(mystery_df[:], train_size=0.79, random_state=seed)\n",
    "mystery_df_eval, mystery_df_test = train_test_split(mystery_df_test, test_size=0.5, random_state=seed)\n",
    "print(f'train: {mystery_df_train.shape}, test:{mystery_df_test.shape}, eval:{mystery_df_eval.shape}')"
   ],
   "id": "a9c19e0385693ab2"
  },
  {
   "metadata": {},
   "cell_type": "code",
   "outputs": [],
   "execution_count": null,
   "source": "sns.barplot(mystery_df['c'].value_counts().reset_index(), x= 'c', y= 'count')",
   "id": "415f3c1c2f7505bd"
  },
  {
   "metadata": {},
   "cell_type": "code",
   "outputs": [],
   "execution_count": null,
   "source": "sns.scatterplot()",
   "id": "52e78d5c4cca8ac2"
  },
  {
   "metadata": {},
   "cell_type": "markdown",
   "source": [
    "#### Observations on the values in each column\n",
    "- x\n",
    "    - all decimals\n",
    "    - most positive\n",
    "    - few negative\n",
    "        - fixed at -999.0\n",
    "        - Possible NaN?\n",
    "        - Possible abnormality?\n",
    "    - might be related to d2 and d3 and c\n",
    "                -  when d2, d3, c, are kept constant, x is also constant\n",
    "- y\n",
    "    - all decimals\n",
    "    - 0-13\n",
    "    - few negative\n",
    "        - fixed at -999.0\n",
    "        - Possible NaN?\n",
    "        - Possible abnormality?\n",
    "- z\n",
    "    - all decimals\n",
    "    - most positive\n",
    "    - few negative\n",
    "        - fixed at -999.0\n",
    "        - Possible NaN?\n",
    "        - Possible abnormality?\n",
    "\n",
    "- c\n",
    "    - all decimals\n",
    "    - most positive\n",
    "    - no negative\n",
    "    - Range 0-12 inclusive\n",
    "        - except 2\n",
    "        - Possible categorical column?\n",
    "    - uniformly distributed\n",
    "        -  unless 2 is considered\n",
    "mystery = pd.read_csv(data_file, sep='|')\n",
    "\n",
    "mystery.head()"
   ],
   "id": "87d90c57a9349d5e"
  },
  {
   "metadata": {},
   "cell_type": "markdown",
   "source": "Let's get some additional info about this dataset.",
   "id": "66f3710bb1e04b20"
  },
  {
   "metadata": {},
   "cell_type": "code",
   "outputs": [],
   "execution_count": null,
   "source": [
    "mystery = mystery_df_train.replace(-999, np.nan)\n",
    "mystery.isna().sum()"
   ],
   "id": "4c0c68198ce05cc2"
  },
  {
   "metadata": {},
   "cell_type": "code",
   "outputs": [],
   "execution_count": null,
   "source": [
    "sns.pairplot(mystery)\n",
    "plt.show()"
   ],
   "id": "dbff144599d12d28"
  },
  {
   "metadata": {},
   "cell_type": "code",
   "outputs": [],
   "execution_count": null,
   "source": [
    "sns.heatmap(mystery.corr(), annot=True, cmap='coolwarm')\n",
    "plt.title('Correlation')\n",
    "plt.show()"
   ],
   "id": "d7db1a410f815f3f"
  },
  {
   "metadata": {},
   "cell_type": "code",
   "outputs": [],
   "execution_count": null,
   "source": [
    "sns.pairplot(mystery, hue='c', vars=['x', 'y', 'z'])\n",
    "plt.show()"
   ],
   "id": "9044d33fe2daa44e"
  }
 ],
 "metadata": {
  "kernelspec": {
   "display_name": "venv",
   "language": "python",
   "name": "python3"
  },
  "language_info": {
   "codemirror_mode": {
    "name": "ipython",
    "version": 3
   },
   "file_extension": ".py",
   "mimetype": "text/x-python",
   "name": "python",
   "nbconvert_exporter": "python",
   "pygments_lexer": "ipython3",
   "version": "3.12.4"
  }
 },
 "nbformat": 4,
 "nbformat_minor": 5
}
